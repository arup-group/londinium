{
 "cells": [
  {
   "cell_type": "code",
   "execution_count": null,
   "metadata": {
    "ExecuteTime": {
     "end_time": "2021-03-17T10:57:59.350973Z",
     "start_time": "2021-03-17T10:57:59.330009Z"
    }
   },
   "outputs": [],
   "source": [
    "import geopandas as gp\n",
    "from matplotlib import pyplot as plt"
   ]
  },
  {
   "cell_type": "code",
   "execution_count": null,
   "metadata": {
    "ExecuteTime": {
     "end_time": "2021-03-17T10:57:24.670402Z",
     "start_time": "2021-03-17T10:57:24.647465Z"
    }
   },
   "outputs": [],
   "source": [
    "network_bb_path = \"fixtures/network_bounding_box.geojson\"\n",
    "lsoas_path = \"fixtures/lsoas\""
   ]
  },
  {
   "cell_type": "code",
   "execution_count": null,
   "metadata": {
    "ExecuteTime": {
     "end_time": "2021-03-17T10:59:46.687796Z",
     "start_time": "2021-03-17T10:59:46.455319Z"
    }
   },
   "outputs": [],
   "source": [
    "boundary = gp.read_file(network_bb_path)\n",
    "print(boundary.crs)\n",
    "boundary.plot()"
   ]
  },
  {
   "cell_type": "code",
   "execution_count": null,
   "metadata": {
    "ExecuteTime": {
     "end_time": "2021-03-17T11:34:07.332505Z",
     "start_time": "2021-03-17T11:34:03.563042Z"
    }
   },
   "outputs": [],
   "source": [
    "lsoas = gp.read_file(lsoas_path)\n",
    "print(lsoas.crs)\n",
    "lsoas.plot(figsize=(20,20))"
   ]
  },
  {
   "cell_type": "code",
   "execution_count": null,
   "metadata": {
    "ExecuteTime": {
     "end_time": "2021-03-17T12:00:33.868349Z",
     "start_time": "2021-03-17T12:00:33.825262Z"
    }
   },
   "outputs": [],
   "source": [
    "lsoas.head()"
   ]
  },
  {
   "cell_type": "code",
   "execution_count": null,
   "metadata": {
    "ExecuteTime": {
     "end_time": "2021-03-17T11:35:19.275724Z",
     "start_time": "2021-03-17T11:35:15.533054Z"
    }
   },
   "outputs": [],
   "source": [
    "lsoas = gp.read_file(lsoas_path)\n",
    "print(lsoas.crs)\n",
    "lsoas = lsoas.to_crs(\"epsg:4326\")\n",
    "print(lsoas.crs)\n",
    "lsoas.plot(figsize=(20,20))"
   ]
  },
  {
   "cell_type": "code",
   "execution_count": null,
   "metadata": {
    "ExecuteTime": {
     "end_time": "2021-03-17T11:36:44.241751Z",
     "start_time": "2021-03-17T11:36:41.653258Z"
    }
   },
   "outputs": [],
   "source": [
    "fig, ax = plt.subplots(figsize=(20,20))\n",
    "lsoas.plot(ax=ax)\n",
    "boundary.plot(ax=ax, color='red')"
   ]
  },
  {
   "cell_type": "code",
   "execution_count": null,
   "metadata": {
    "ExecuteTime": {
     "end_time": "2021-03-17T11:59:44.371778Z",
     "start_time": "2021-03-17T11:59:43.366603Z"
    }
   },
   "outputs": [],
   "source": [
    "lsoas_clipped = gp.overlay(lsoas, boundary, how='intersection')\n",
    "lsoas_clipped.plot()"
   ]
  },
  {
   "cell_type": "code",
   "execution_count": null,
   "metadata": {
    "ExecuteTime": {
     "end_time": "2021-03-17T12:00:16.094887Z",
     "start_time": "2021-03-17T12:00:16.035731Z"
    }
   },
   "outputs": [],
   "source": [
    "lsoas_clipped.head()"
   ]
  },
  {
   "cell_type": "code",
   "execution_count": null,
   "metadata": {},
   "outputs": [],
   "source": []
  }
 ],
 "metadata": {
  "kernelspec": {
   "display_name": "pam",
   "language": "python",
   "name": "pam"
  },
  "language_info": {
   "codemirror_mode": {
    "name": "ipython",
    "version": 3
   },
   "file_extension": ".py",
   "mimetype": "text/x-python",
   "name": "python",
   "nbconvert_exporter": "python",
   "pygments_lexer": "ipython3",
   "version": "3.7.3"
  },
  "toc": {
   "base_numbering": 1,
   "nav_menu": {},
   "number_sections": true,
   "sideBar": true,
   "skip_h1_title": false,
   "title_cell": "Table of Contents",
   "title_sidebar": "Contents",
   "toc_cell": false,
   "toc_position": {},
   "toc_section_display": true,
   "toc_window_display": false
  }
 },
 "nbformat": 4,
 "nbformat_minor": 4
}
